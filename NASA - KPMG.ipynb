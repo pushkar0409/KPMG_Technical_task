{
 "cells": [
  {
   "cell_type": "code",
   "execution_count": 0,
   "metadata": {
    "application/vnd.databricks.v1+cell": {
     "cellMetadata": {
      "byteLimit": 2048000,
      "rowLimit": 10000
     },
     "inputWidgets": {},
     "nuid": "7610a83a-f7bc-45d5-a938-2994e33e2f6f",
     "showTitle": false,
     "tableResultSettingsMap": {},
     "title": ""
    }
   },
   "outputs": [],
   "source": [
    "# Step 1: Import the required libraries and define the API parameters \n",
    "\n",
    "import requests\n",
    "import json\n",
    "import pandas as pd\n",
    "import matplotlib.pyplot as plt\n",
    "import seaborn as sns\n",
    "from pyspark.sql import SparkSession\n",
    "from pyspark.sql.functions import explode, col, round\n",
    "spark = SparkSession.builder.getOrCreate()\n",
    "\"\"\" \n",
    "Define API parameters.\n",
    "I have used url and params instead of directly using url - https://api.nasa.gov/neo/rest/v1/feed?start_date=2015-09-07&end_date=2015-09-08&api_key=DEMO_KEY for a Easier to read and modify and less prone to error approach. \n",
    "\"\"\"\n",
    "url = \"https://api.nasa.gov/neo/rest/v1/feed\"\n",
    "params = {\n",
    "    \"start_date\": \"2015-09-07\",\n",
    "    \"end_date\": \"2015-09-08\",\n",
    "    \"api_key\": \"DEMO_KEY\"\n",
    "}\n",
    "\n",
    "# Get data\n",
    "response = requests.get(url, params=params)\n",
    "data = response.json()\n"
   ]
  },
  {
   "cell_type": "code",
   "execution_count": 0,
   "metadata": {
    "application/vnd.databricks.v1+cell": {
     "cellMetadata": {
      "byteLimit": 2048000,
      "rowLimit": 10000
     },
     "inputWidgets": {},
     "nuid": "98a2ab84-3a16-42d6-9879-7ee0d16e7473",
     "showTitle": false,
     "tableResultSettingsMap": {},
     "title": ""
    }
   },
   "outputs": [],
   "source": [
    "\"\"\"\n",
    "Step 2 : \n",
    "Explore the data\n",
    "the data is a dictionary where:\n",
    "Keys are date strings and values are lists of near earth object (NEO) dictionaries observed on that date.\n",
    "\"\"\"\n",
    "print(data[\"near_earth_objects\"].keys())\n",
    "print((data[\"near_earth_objects\"][\"2015-09-07\"]))"
   ]
  },
  {
   "cell_type": "code",
   "execution_count": 0,
   "metadata": {
    "application/vnd.databricks.v1+cell": {
     "cellMetadata": {
      "byteLimit": 2048000,
      "rowLimit": 10000
     },
     "inputWidgets": {},
     "nuid": "d0fb2380-29d6-4261-9058-da53651412ea",
     "showTitle": false,
     "tableResultSettingsMap": {},
     "title": ""
    }
   },
   "outputs": [],
   "source": [
    "# Step 3: Extract objs data and transform to a Spark DataFrame\n",
    "\n",
    "# Initialize Spark session\n",
    "spark = SparkSession.builder.getOrCreate()\n",
    "\n",
    "# Extract Objs by date\n",
    "objs_by_date = data['near_earth_objects']\n",
    "\n",
    "# Flatten data for simple view and easy to work: create list of all objs\n",
    "objs_list = []\n",
    "for date, objs in objs_by_date.items():\n",
    "    for obj in objs:\n",
    "        obj['date'] = date  # keeping the date information as it is needed.\n",
    "        objs_list.append(obj)\n",
    "\n",
    "# Use pandas to flatten list of dicts and then convert to Spark DataFrame for large dataset/parallel processing and use SQL support\n",
    "objs_pd_df = pd.json_normalize(objs_list)\n",
    "objs_df = spark.createDataFrame(objs_pd_df)\n",
    "\n",
    "# check schema and first value \n",
    "objs_df.printSchema() \n",
    "print(objs_df.first())"
   ]
  },
  {
   "cell_type": "code",
   "execution_count": 0,
   "metadata": {
    "application/vnd.databricks.v1+cell": {
     "cellMetadata": {
      "byteLimit": 2048000,
      "rowLimit": 10000
     },
     "inputWidgets": {},
     "nuid": "9a9cd79b-8672-4888-a552-401f6b435beb",
     "showTitle": false,
     "tableResultSettingsMap": {},
     "title": ""
    }
   },
   "outputs": [],
   "source": [
    "\"\"\" \n",
    "Step 4: All near earth objects\n",
    "Object Table (objects) answers - How many asteroid or comet?\n",
    "Each row will have 1 unique object, regardless of how many times it comes near Earth.\n",
    "This is a object level data capture.\n",
    "Create table from Spark DataFrame for All near earth objects (taking only unique objects into consideration).\n",
    "selecting only the important columns, this can be changed.\n",
    "\"\"\"\n",
    "objs_flat_df = objs_df.select(\n",
    "    col(\"id\"),\n",
    "    col(\"name\"),\n",
    "    col(\"nasa_jpl_url\"),\n",
    "    col(\"absolute_magnitude_h\").cast(\"double\"),\n",
    "    col(\"is_potentially_hazardous_asteroid\").cast(\"boolean\"),\n",
    "    col(\"is_sentry_object\").cast(\"boolean\"),\n",
    "    round(col(\"`estimated_diameter.meters.estimated_diameter_min`\").cast(\"double\"),2).alias(\"estimated_diameter_min_m\"),\n",
    "    round(col(\"`estimated_diameter.meters.estimated_diameter_max`\").cast(\"double\"),2).alias(\"estimated_diameter_max_m\")\n",
    ")\n",
    "\n",
    "# Removing duplicate obj ID\n",
    "objs_distinct_df = objs_flat_df.dropDuplicates([\"id\"])\n",
    "\n",
    "objs_distinct_df.show(5)\n",
    "\n",
    "# Save it to as a SQL table\n",
    "spark.sql(\"DROP TABLE IF EXISTS objects\")\n",
    "objs_distinct_df.write.mode(\"overwrite\").option(\"mergeSchema\", \"true\").saveAsTable(\"objects\")"
   ]
  },
  {
   "cell_type": "code",
   "execution_count": 0,
   "metadata": {
    "application/vnd.databricks.v1+cell": {
     "cellMetadata": {
      "byteLimit": 2048000,
      "rowLimit": 10000
     },
     "inputWidgets": {},
     "nuid": "d472a87a-9168-4bbd-9530-6f9cc92a489f",
     "showTitle": false,
     "tableResultSettingsMap": {},
     "title": ""
    }
   },
   "outputs": [],
   "source": [
    "\"\"\" Step 5 : All instances of a close approach\n",
    "Close Approach Table (obj_close) answeres - When and how close did this obj come to Earth?\n",
    "Each row will have  1 specific approach. A single obj can have multiple rows (approaches) over time.\n",
    "This is a event-level data capture\"\"\"\n",
    "\n",
    "close_df = objs_df.select(\n",
    "    col(\"id\"),\n",
    "    col(\"name\"),\n",
    "    explode(\"close_approach_data\").alias(\"approach\")\n",
    ")\n",
    "close_df.show(5)\n",
    "\n",
    "# Create table from Spark DataFrame for All close approach objects and selecting only the important columns, this can be changed.\n",
    "close_flat_df = close_df.select(\n",
    "    col(\"id\"),\n",
    "    col(\"name\"),\n",
    "    col(\"approach.close_approach_date\"),\n",
    "    col(\"approach.close_approach_date_full\"),\n",
    "    col(\"approach.epoch_date_close_approach\"),\n",
    "    round(col(\"approach.relative_velocity.kilometers_per_hour\").cast(\"double\"), 2).alias(\"kmph\"),\n",
    "    round(col(\"approach.miss_distance.kilometers\").cast(\"double\"), 2).alias(\"miss_distance_km\"),\n",
    "    col(\"approach.orbiting_body\")\n",
    ")\n",
    "\n",
    "close_flat_df.show(5)\n",
    "\n",
    "close_flat_df.write.mode(\"overwrite\").saveAsTable(\"obj_close_approaches\")\n",
    "\n"
   ]
  },
  {
   "cell_type": "code",
   "execution_count": 0,
   "metadata": {
    "application/vnd.databricks.v1+cell": {
     "cellMetadata": {
      "byteLimit": 2048000,
      "implicitDf": true,
      "rowLimit": 10000
     },
     "inputWidgets": {},
     "nuid": "3d627ede-819f-4c58-85b5-f878153a3abe",
     "showTitle": false,
     "tableResultSettingsMap": {},
     "title": ""
    }
   },
   "outputs": [],
   "source": [
    "\n",
    "#Step 6: Analyze the tables\n",
    "# View first few near earth objects\n",
    "display(spark.sql(\"SELECT * FROM objects LIMIT 10\"))\n",
    "\n",
    "# View first few close approach events\n",
    "display(spark.sql(\"SELECT * FROM obj_close_approaches LIMIT 10\"))"
   ]
  },
  {
   "cell_type": "markdown",
   "metadata": {
    "application/vnd.databricks.v1+cell": {
     "cellMetadata": {
      "byteLimit": 2048000,
      "rowLimit": 10000
     },
     "inputWidgets": {},
     "nuid": "b742d957-fc8f-4696-b9c8-58831952fb56",
     "showTitle": false,
     "tableResultSettingsMap": {},
     "title": ""
    }
   },
   "source": [
    "# **USER STORY 1**"
   ]
  },
  {
   "cell_type": "markdown",
   "metadata": {
    "application/vnd.databricks.v1+cell": {
     "cellMetadata": {
      "byteLimit": 2048000,
      "rowLimit": 10000
     },
     "inputWidgets": {},
     "nuid": "2e73c2d3-86b0-4f31-8a97-dad76b9b3508",
     "showTitle": false,
     "tableResultSettingsMap": {},
     "title": ""
    }
   },
   "source": [
    "The ask -\n",
    "Build an analysis system that helps amateur astronomers understand near-Earth objects (NEOs)\n",
    "\n",
    "Requirements         \n",
    "- Show size metrics, orbital period calculations,\n",
    "and hazard classifications.\n",
    "- Show past and future approaches\tShow NEOs that came close to Earth in the past 25 years or will in the next 25 years\n",
    "- The system should categorize objects based on their\n",
    "hazard potential using established scientific criteria.\n",
    "- Let users filter/sort\tBy size, hazard, time, orbiting body, etc.\n",
    "- Show visual charts\tCharts to compare size vs distance, speed, etc.\n",
    "- Show detailed profiles"
   ]
  },
  {
   "cell_type": "markdown",
   "metadata": {
    "application/vnd.databricks.v1+cell": {
     "cellMetadata": {
      "byteLimit": 2048000,
      "rowLimit": 10000
     },
     "inputWidgets": {},
     "nuid": "34a4fd11-7234-4d26-b20d-671238f8fc69",
     "showTitle": false,
     "tableResultSettingsMap": {},
     "title": ""
    }
   },
   "source": [
    "## Part 1"
   ]
  },
  {
   "cell_type": "code",
   "execution_count": 0,
   "metadata": {
    "application/vnd.databricks.v1+cell": {
     "cellMetadata": {
      "byteLimit": 2048000,
      "implicitDf": true,
      "rowLimit": 10000
     },
     "inputWidgets": {},
     "nuid": "b6c1fe46-4e31-4452-ab39-25a81a15bddf",
     "showTitle": false,
     "tableResultSettingsMap": {},
     "title": ""
    }
   },
   "outputs": [],
   "source": [
    "%sql\n",
    "--Show detailed information like - including size metrics, orbital period calculations, and hazard classifications.\n",
    "--CREATE OR REPLACE TEMP VIEW neo_summary AS\n",
    "SELECT\n",
    "  id,\n",
    "  name,\n",
    "  ROUND((estimated_diameter_min_m + estimated_diameter_max_m)/2, 4) AS average_diameter_meters,\n",
    "  absolute_magnitude_h AS magnitude,\n",
    "  is_sentry_object,\n",
    "  CASE \n",
    "    WHEN is_potentially_hazardous_asteroid THEN 'Hazardous'\n",
    "    ELSE 'Non-Hazardous'\n",
    "  END AS hazard_category\n",
    "FROM objects;\n",
    "\n",
    "-- Orbital period (usually in days or years) is how long the object takes to orbit the Sun. To find this we can use the formulla T = sqrt(a^3) where T is the orbital period and a is the semi-major axis of the orbit. \n"
   ]
  },
  {
   "cell_type": "markdown",
   "metadata": {
    "application/vnd.databricks.v1+cell": {
     "cellMetadata": {
      "byteLimit": 2048000,
      "rowLimit": 10000
     },
     "inputWidgets": {},
     "nuid": "2d29d028-1c0e-41ee-a87c-1dca62b8ec0f",
     "showTitle": false,
     "tableResultSettingsMap": {},
     "title": ""
    }
   },
   "source": [
    "## Part 2"
   ]
  },
  {
   "cell_type": "code",
   "execution_count": 0,
   "metadata": {
    "application/vnd.databricks.v1+cell": {
     "cellMetadata": {
      "byteLimit": 2048000,
      "implicitDf": true,
      "rowLimit": 10000
     },
     "inputWidgets": {},
     "nuid": "5966f678-44bd-4d2a-bb15-d0e288e1ed5c",
     "showTitle": false,
     "tableResultSettingsMap": {},
     "title": ""
    }
   },
   "outputs": [],
   "source": [
    "%sql\n",
    "-- Displaying objects that had close approaches to Earth in the past 25 years or are predicted to approach in the next 25 years.\n",
    "-- This is done taking today's date and subtracting 25 years and adding 25 years to get the timeframe.\n",
    "SELECT  \n",
    "  id,\n",
    "  name,\n",
    "  close_approach_date,\n",
    "  kmph AS speed_kmph,\n",
    "  miss_distance_km,\n",
    "  orbiting_body\n",
    "FROM obj_close_approaches\n",
    "WHERE \n",
    "  to_date(close_approach_date, 'yyyy-MM-dd') BETWEEN date_sub(current_date(), 365 * 25) -- current - 25 years\n",
    "                                                 AND date_add(current_date(), 365 * 25) -- current + 25 years\n",
    "ORDER BY close_approach_date;"
   ]
  },
  {
   "cell_type": "markdown",
   "metadata": {
    "application/vnd.databricks.v1+cell": {
     "cellMetadata": {
      "byteLimit": 2048000,
      "rowLimit": 10000
     },
     "inputWidgets": {},
     "nuid": "dc58ce03-441a-475b-bf0f-f2d8550460b3",
     "showTitle": false,
     "tableResultSettingsMap": {},
     "title": ""
    }
   },
   "source": [
    "## Part 3"
   ]
  },
  {
   "cell_type": "code",
   "execution_count": 0,
   "metadata": {
    "application/vnd.databricks.v1+cell": {
     "cellMetadata": {
      "byteLimit": 2048000,
      "implicitDf": true,
      "rowLimit": 10000
     },
     "inputWidgets": {},
     "nuid": "d5dd784d-a133-4014-8684-9d691cbfc1a7",
     "showTitle": false,
     "tableResultSettingsMap": {},
     "title": ""
    }
   },
   "outputs": [],
   "source": [
    "%sql \n",
    "/* \n",
    "A NEO is further designated as a potential hazard if it meets two specific criteria:\n",
    "1. Orbital Intersection Distance: Its orbit intersects Earth's orbit with a minimum orbit intersection distance (MOID) of less than 0.05    astronomical units (AU), which is approximately 4.65 million miles or 7.48 million kilometers. \n",
    "2. Absolute Magnitude: Its absolute magnitude (a measure of brightness) is 22 or less, which generally corresponds to a diameter greater than 140 meters (460 feet). \n",
    "\n",
    "Since we already have a field is_potentially_hazardous_asteroid; we can use this field for classification.\n",
    "We can also manually calcuate based on the above two conditions using the close_approach_data.miss_distance.astronomical and absolute_magnitude_h fields using the condition - \n",
    "CASE\n",
    "    WHEN CAST(close_approach_data[0].miss_distance.astronomical AS DOUBLE) <= 0.05\n",
    "         AND absolute_magnitude_h <= 22 THEN 'Potentially Hazardous'\n",
    "    ELSE 'Not Hazardous' \n",
    " */\n",
    "\n",
    "SELECT\n",
    "  id,\n",
    "  name,\n",
    "  CASE\n",
    "    WHEN is_potentially_hazardous_asteroid THEN 'Hazardous'\n",
    "    ELSE 'Non-Hazardous'\n",
    "  END AS hazard_category\n",
    "FROM objects;\n"
   ]
  },
  {
   "cell_type": "markdown",
   "metadata": {
    "application/vnd.databricks.v1+cell": {
     "cellMetadata": {
      "byteLimit": 2048000,
      "rowLimit": 10000
     },
     "inputWidgets": {},
     "nuid": "50a55173-f3a3-4d66-b978-836f7d1db721",
     "showTitle": false,
     "tableResultSettingsMap": {},
     "title": ""
    }
   },
   "source": [
    "## Part 4 and Part 5"
   ]
  },
  {
   "cell_type": "code",
   "execution_count": 0,
   "metadata": {
    "application/vnd.databricks.v1+cell": {
     "cellMetadata": {
      "byteLimit": 2048000,
      "rowLimit": 10000
     },
     "inputWidgets": {},
     "nuid": "8c974565-e4c9-4ed4-adcf-679990baef2d",
     "showTitle": false,
     "tableResultSettingsMap": {
      "0": {
       "dataGridStateBlob": "{\"version\":1,\"tableState\":{\"columnPinning\":{\"left\":[\"#row_number#\"],\"right\":[]},\"columnSizing\":{},\"columnVisibility\":{}},\"settings\":{\"columns\":{\"nasa_jpl_url\":{\"format\":{\"preset\":\"string-preset-url\"}}}},\"syncTimestamp\":1753487496792}",
       "filterBlob": "{\"version\":1,\"filterGroups\":[],\"syncTimestamp\":1753531856772}",
       "queryPlanFiltersBlob": "[]",
       "tableResultIndex": 0
      }
     },
     "title": ""
    }
   },
   "outputs": [
    {
     "output_type": "display_data",
     "data": {
      "text/plain": [
       "Databricks visualization. Run in Databricks to view."
      ]
     },
     "metadata": {
      "application/vnd.databricks.v1.subcommand+json": {
       "baseErrorDetails": null,
       "bindings": {},
       "collapsed": false,
       "command": "%python\n__backend_agg_display_orig = display\n__backend_agg_dfs = []\ndef __backend_agg_display_new(df):\n    __backend_agg_df_modules = [\"pandas.core.frame\", \"databricks.koalas.frame\", \"pyspark.sql.dataframe\", \"pyspark.pandas.frame\", \"pyspark.sql.connect.dataframe\"]\n    if (type(df).__module__ in __backend_agg_df_modules and type(df).__name__ == 'DataFrame') or isinstance(df, list):\n        __backend_agg_dfs.append(df)\n\ndisplay = __backend_agg_display_new\n\ndef __backend_agg_user_code_fn():\n    import base64\n    exec(base64.standard_b64decode(\"IiIiClZpc3VhbGl6ZSB0aGUgZGF0YS4gRmlyc3Qgd2Ugam9pbiB0aGUgdHdvIHRhYmxlcyB1c2luZyBTUUwgYW5kIHRoZW4gY29udmVydCB0aGUgZGYgdG8gcGFuZGFzLgoKIiIiCmpvaW5lZF9kZiA9IHNwYXJrLnNxbCgiIiIKU0VMRUNUICogRlJPTSBvYmplY3RzIG8gSk9JTiBvYmpfY2xvc2VfYXBwcm9hY2hlcyBjIE9OIG8uaWQgPSBjLmlkCiIiIikKam9pbmVkX3BkID0gam9pbmVkX2RmLnRvUGFuZGFzKCkKam9pbmVkX3BkWydhdmdfZGlhbWV0ZXJfbSddID0gKGpvaW5lZF9wZFsnZXN0aW1hdGVkX2RpYW1ldGVyX21pbl9tJ10gKyBqb2luZWRfcGRbJ2VzdGltYXRlZF9kaWFtZXRlcl9tYXhfbSddKSAvIDIKam9pbmVkX3BkWydhcHByb2FjaF9kYXknXSA9IGpvaW5lZF9wZFsnY2xvc2VfYXBwcm9hY2hfZGF0ZSddLnN0cls4OjEwXS5hc3R5cGUoaW50KQoKZGlzcGxheShqb2luZWRfcGQpCgpwbHQuZmlndXJlKGZpZ3NpemU9KDgsNikpCnNucy5zY2F0dGVycGxvdCgKICAgIGRhdGE9am9pbmVkX3BkLCAKICAgIHg9J2F2Z19kaWFtZXRlcl9tJywgCiAgICB5PSdtaXNzX2Rpc3RhbmNlX2ttJywKKQpwbHQudGl0bGUoJ1NpemUgdnMuIEFwcHJvYWNoIERpc3RhbmNlJykKcGx0LnhsYWJlbCgnRXN0aW1hdGVkIERpYW1ldGVyIChtZXRlcnMpJykKcGx0LnlsYWJlbCgnTWlzcyBEaXN0YW5jZSAoa20pJykKcGx0LnNob3coKQoKcGx0LmZpZ3VyZShmaWdzaXplPSgxMCw2KSkKc25zLmhpc3RwbG90KGpvaW5lZF9wZFsnYXBwcm9hY2hfZGF5J10sIGRpc2NyZXRlPVRydWUpIApwbHQudGl0bGUoJ051bWJlciBvZiBDbG9zZSBBcHByb2FjaGVzIHBlciBkYXknKQpwbHQueGxhYmVsKCdEYXknKQpwbHQueWxhYmVsKCdOdW1iZXIgb2YgQXBwcm9hY2hlcycpCnBsdC54dGlja3MocmFuZ2UoMSwzMikpCnBsdC5ncmlkKGF4aXM9J3knKQpwbHQuc2hvdygpCgoK\").decode())\n\ntry:\n    # run user code\n    __backend_agg_user_code_fn()\n\n    #reset display function\n    display = __backend_agg_display_orig\n\n    if len(__backend_agg_dfs) > 0:\n        # create a temp view\n        if type(__backend_agg_dfs[0]).__module__ == \"databricks.koalas.frame\":\n            # koalas dataframe\n            __backend_agg_dfs[0].to_spark().createOrReplaceTempView(\"DatabricksViewb311032\")\n        elif type(__backend_agg_dfs[0]).__module__ == \"pandas.core.frame\" or isinstance(__backend_agg_dfs[0], list):\n            # pandas dataframe\n            spark.createDataFrame(__backend_agg_dfs[0]).createOrReplaceTempView(\"DatabricksViewb311032\")\n        else:\n            __backend_agg_dfs[0].createOrReplaceTempView(\"DatabricksViewb311032\")\n        #run backend agg\n        display(spark.sql(\"\"\"WITH q AS (select * from DatabricksViewb311032) SELECT `avg_diameter_m`,`miss_distance_km` FROM q\"\"\"))\n    else:\n        displayHTML(\"dataframe no longer exists. If you're using dataframe.display(), use display(dataframe) instead.\")\n\n\nfinally:\n    spark.sql(\"drop view if exists DatabricksViewb311032\")\n    display = __backend_agg_display_orig\n    del __backend_agg_display_new\n    del __backend_agg_display_orig\n    del __backend_agg_dfs\n    del __backend_agg_user_code_fn\n\n",
       "commandTitle": "Size vs. Approach Distance",
       "commandType": "auto",
       "commandVersion": 0,
       "commentThread": [],
       "commentsVisible": false,
       "contentSha256Hex": null,
       "customPlotOptions": {
        "redashChart": [
         {
          "key": "type",
          "value": "CHART"
         },
         {
          "key": "options",
          "value": {
           "alignYAxesAtZero": true,
           "coefficient": 1,
           "columnConfigurationMap": {
            "x": {
             "column": "avg_diameter_m",
             "id": "column_543f0bdf137"
            },
            "y": [
             {
              "column": "miss_distance_km",
              "id": "column_543f0bdf140"
             }
            ]
           },
           "dateTimeFormat": "DD/MM/YYYY HH:mm",
           "direction": {
            "type": "counterclockwise"
           },
           "error_y": {
            "type": "data",
            "visible": true
           },
           "globalSeriesType": "scatter",
           "hideXAxis": false,
           "legend": {
            "traceorder": "normal"
           },
           "missingValuesAsZero": true,
           "numberFormat": "0,0.[00000]",
           "percentFormat": "0[.]00%",
           "series": {
            "error_y": {
             "type": "data",
             "visible": true
            },
            "stacking": null
           },
           "seriesOptions": {
            "absolute_magnitude_h": {
             "type": "scatter",
             "yAxis": 0
            },
            "miss_distance_km": {
             "color": "#00A972",
             "type": "scatter",
             "yAxis": 0
            }
           },
           "showDataLabels": false,
           "sizemode": "diameter",
           "sortX": true,
           "sortY": true,
           "swappedAxes": false,
           "textFormat": "",
           "useAggregationsUi": true,
           "valuesOptions": {},
           "version": 2,
           "xAxis": {
            "labels": {
             "enabled": true
            },
            "title": {
             "text": "Average Diameter"
            },
            "type": "-"
           },
           "yAxis": [
            {
             "title": {
              "text": "Miss Distance (M Km)"
             },
             "type": "-"
            },
            {
             "opposite": true,
             "title": {
              "text": null
             },
             "type": "-"
            }
           ]
          }
         }
        ]
       },
       "datasetPreviewNameToCmdIdMap": {},
       "diffDeletes": [],
       "diffInserts": [],
       "displayType": "redashChart",
       "error": null,
       "errorDetails": null,
       "errorSummary": null,
       "errorTraceType": null,
       "finishTime": 0,
       "globalVars": {},
       "guid": "",
       "height": "auto",
       "hideCommandCode": false,
       "hideCommandResult": false,
       "iPythonMetadata": null,
       "inputWidgets": {},
       "isLockedInExamMode": false,
       "latestUser": "a user",
       "latestUserId": null,
       "listResultMetadata": null,
       "metadata": {
        "byteLimit": 2048000,
        "rowLimit": 10000
       },
       "nuid": "705e3974-a901-435a-aac7-64590dd7e9a7",
       "origId": 0,
       "parentHierarchy": [],
       "pivotAggregation": null,
       "pivotColumns": null,
       "position": 13.0,
       "resultDbfsErrorMessage": null,
       "resultDbfsStatus": "INLINED_IN_TREE",
       "results": null,
       "showCommandTitle": false,
       "startTime": 0,
       "state": "input",
       "streamStates": {},
       "subcommandOptions": {
        "queryPlan": {
         "selects": [
          {
           "column": "avg_diameter_m",
           "type": "column"
          },
          {
           "column": "miss_distance_km",
           "type": "column"
          }
         ]
        }
       },
       "submitTime": 0,
       "subtype": "tableResultSubCmd.visualization",
       "tableResultIndex": 0,
       "tableResultSettingsMap": {},
       "useConsistentColors": false,
       "version": "CommandV1",
       "width": "auto",
       "workflows": null,
       "xColumns": null,
       "yColumns": null
      }
     },
     "output_type": "display_data"
    },
    {
     "output_type": "display_data",
     "data": {
      "text/plain": [
       "Databricks visualization. Run in Databricks to view."
      ]
     },
     "metadata": {
      "application/vnd.databricks.v1.subcommand+json": {
       "baseErrorDetails": null,
       "bindings": {},
       "collapsed": false,
       "command": "%python\n__backend_agg_display_orig = display\n__backend_agg_dfs = []\ndef __backend_agg_display_new(df):\n    __backend_agg_df_modules = [\"pandas.core.frame\", \"databricks.koalas.frame\", \"pyspark.sql.dataframe\", \"pyspark.pandas.frame\", \"pyspark.sql.connect.dataframe\"]\n    if (type(df).__module__ in __backend_agg_df_modules and type(df).__name__ == 'DataFrame') or isinstance(df, list):\n        __backend_agg_dfs.append(df)\n\ndisplay = __backend_agg_display_new\n\ndef __backend_agg_user_code_fn():\n    import base64\n    exec(base64.standard_b64decode(\"IiIiClZpc3VhbGl6ZSB0aGUgZGF0YS4gRmlyc3Qgd2Ugam9pbiB0aGUgdHdvIHRhYmxlcyB1c2luZyBTUUwgYW5kIHRoZW4gY29udmVydCB0aGUgZGYgdG8gcGFuZGFzLgoKIiIiCmpvaW5lZF9kZiA9IHNwYXJrLnNxbCgiIiIKU0VMRUNUICogRlJPTSBvYmplY3RzIG8gSk9JTiBvYmpfY2xvc2VfYXBwcm9hY2hlcyBjIE9OIG8uaWQgPSBjLmlkCiIiIikKam9pbmVkX3BkID0gam9pbmVkX2RmLnRvUGFuZGFzKCkKam9pbmVkX3BkWydhdmdfZGlhbWV0ZXJfbSddID0gKGpvaW5lZF9wZFsnZXN0aW1hdGVkX2RpYW1ldGVyX21pbl9tJ10gKyBqb2luZWRfcGRbJ2VzdGltYXRlZF9kaWFtZXRlcl9tYXhfbSddKSAvIDIKam9pbmVkX3BkWydhcHByb2FjaF9kYXknXSA9IGpvaW5lZF9wZFsnY2xvc2VfYXBwcm9hY2hfZGF0ZSddLnN0cls4OjEwXS5hc3R5cGUoaW50KQoKZGlzcGxheShqb2luZWRfcGQpCgpwbHQuZmlndXJlKGZpZ3NpemU9KDgsNikpCnNucy5zY2F0dGVycGxvdCgKICAgIGRhdGE9am9pbmVkX3BkLCAKICAgIHg9J2F2Z19kaWFtZXRlcl9tJywgCiAgICB5PSdtaXNzX2Rpc3RhbmNlX2ttJywKKQpwbHQudGl0bGUoJ1NpemUgdnMuIEFwcHJvYWNoIERpc3RhbmNlJykKcGx0LnhsYWJlbCgnRXN0aW1hdGVkIERpYW1ldGVyIChtZXRlcnMpJykKcGx0LnlsYWJlbCgnTWlzcyBEaXN0YW5jZSAoa20pJykKcGx0LnNob3coKQoKcGx0LmZpZ3VyZShmaWdzaXplPSgxMCw2KSkKc25zLmhpc3RwbG90KGpvaW5lZF9wZFsnYXBwcm9hY2hfZGF5J10sIGRpc2NyZXRlPVRydWUpIApwbHQudGl0bGUoJ051bWJlciBvZiBDbG9zZSBBcHByb2FjaGVzIHBlciBkYXknKQpwbHQueGxhYmVsKCdEYXknKQpwbHQueWxhYmVsKCdOdW1iZXIgb2YgQXBwcm9hY2hlcycpCnBsdC54dGlja3MocmFuZ2UoMSwzMikpCnBsdC5ncmlkKGF4aXM9J3knKQpwbHQuc2hvdygpCgoK\").decode())\n\ntry:\n    # run user code\n    __backend_agg_user_code_fn()\n\n    #reset display function\n    display = __backend_agg_display_orig\n\n    if len(__backend_agg_dfs) > 0:\n        # create a temp view\n        if type(__backend_agg_dfs[0]).__module__ == \"databricks.koalas.frame\":\n            # koalas dataframe\n            __backend_agg_dfs[0].to_spark().createOrReplaceTempView(\"DatabricksViewac47331\")\n        elif type(__backend_agg_dfs[0]).__module__ == \"pandas.core.frame\" or isinstance(__backend_agg_dfs[0], list):\n            # pandas dataframe\n            spark.createDataFrame(__backend_agg_dfs[0]).createOrReplaceTempView(\"DatabricksViewac47331\")\n        else:\n            __backend_agg_dfs[0].createOrReplaceTempView(\"DatabricksViewac47331\")\n        #run backend agg\n        display(spark.sql(\"\"\"WITH q AS (select * from DatabricksViewac47331) SELECT `miss_distance_km`,SUM(`kmph`) `column_543f0bdf157` FROM q GROUP BY `miss_distance_km`\"\"\"))\n    else:\n        displayHTML(\"dataframe no longer exists. If you're using dataframe.display(), use display(dataframe) instead.\")\n\n\nfinally:\n    spark.sql(\"drop view if exists DatabricksViewac47331\")\n    display = __backend_agg_display_orig\n    del __backend_agg_display_new\n    del __backend_agg_display_orig\n    del __backend_agg_dfs\n    del __backend_agg_user_code_fn\n\n",
       "commandTitle": "Speed Vs Miss Distance",
       "commandType": "auto",
       "commandVersion": 0,
       "commentThread": [],
       "commentsVisible": false,
       "contentSha256Hex": null,
       "customPlotOptions": {
        "redashChart": [
         {
          "key": "type",
          "value": "CHART"
         },
         {
          "key": "options",
          "value": {
           "alignYAxesAtZero": true,
           "coefficient": 1,
           "columnConfigurationMap": {
            "x": {
             "column": "miss_distance_km",
             "id": "column_543f0bdf155"
            },
            "y": [
             {
              "column": "kmph",
              "id": "column_543f0bdf157",
              "transform": "SUM"
             }
            ]
           },
           "dateTimeFormat": "DD/MM/YYYY HH:mm",
           "direction": {
            "type": "counterclockwise"
           },
           "error_y": {
            "type": "data",
            "visible": true
           },
           "globalSeriesType": "line",
           "isAggregationOn": true,
           "legend": {
            "traceorder": "normal"
           },
           "missingValuesAsZero": true,
           "numberFormat": "0,0.[00000]",
           "percentFormat": "0[.]00%",
           "series": {
            "error_y": {
             "type": "data",
             "visible": true
            },
            "stacking": null
           },
           "seriesOptions": {
            "column_543f0bdf157": {
             "type": "line",
             "yAxis": 0
            }
           },
           "showDataLabels": false,
           "sizemode": "diameter",
           "sortX": true,
           "sortY": true,
           "swappedAxes": false,
           "textFormat": "",
           "useAggregationsUi": true,
           "valuesOptions": {},
           "version": 2,
           "xAxis": {
            "labels": {
             "enabled": true
            },
            "title": {
             "text": "Miss Distance (M Km)"
            },
            "type": "-"
           },
           "yAxis": [
            {
             "title": {
              "text": "Speed Kmph"
             },
             "type": "-"
            },
            {
             "opposite": true,
             "type": "-"
            }
           ]
          }
         }
        ]
       },
       "datasetPreviewNameToCmdIdMap": {},
       "diffDeletes": [],
       "diffInserts": [],
       "displayType": "redashChart",
       "error": null,
       "errorDetails": null,
       "errorSummary": null,
       "errorTraceType": null,
       "finishTime": 0,
       "globalVars": {},
       "guid": "",
       "height": "auto",
       "hideCommandCode": false,
       "hideCommandResult": false,
       "iPythonMetadata": null,
       "inputWidgets": {},
       "isLockedInExamMode": false,
       "latestUser": "a user",
       "latestUserId": null,
       "listResultMetadata": null,
       "metadata": {
        "byteLimit": 2048000,
        "rowLimit": 10000
       },
       "nuid": "03ab715f-f3d8-4956-bb34-41c2ea7f2f0b",
       "origId": 0,
       "parentHierarchy": [],
       "pivotAggregation": null,
       "pivotColumns": null,
       "position": 14.0,
       "resultDbfsErrorMessage": null,
       "resultDbfsStatus": "INLINED_IN_TREE",
       "results": null,
       "showCommandTitle": false,
       "startTime": 0,
       "state": "input",
       "streamStates": {},
       "subcommandOptions": {
        "queryPlan": {
         "groups": [
          {
           "column": "miss_distance_km",
           "type": "column"
          }
         ],
         "selects": [
          {
           "column": "miss_distance_km",
           "type": "column"
          },
          {
           "alias": "column_543f0bdf157",
           "args": [
            {
             "column": "kmph",
             "type": "column"
            }
           ],
           "function": "SUM",
           "type": "function"
          }
         ]
        }
       },
       "submitTime": 0,
       "subtype": "tableResultSubCmd.visualization",
       "tableResultIndex": 0,
       "tableResultSettingsMap": {},
       "useConsistentColors": false,
       "version": "CommandV1",
       "width": "auto",
       "workflows": null,
       "xColumns": null,
       "yColumns": null
      }
     },
     "output_type": "display_data"
    }
   ],
   "source": [
    "\"\"\"\n",
    "Visualize the data. First we join the two tables using SQL and then convert the df to pandas.\n",
    "\n",
    "\"\"\"\n",
    "joined_df = spark.sql(\"\"\"\n",
    "SELECT * FROM objects o JOIN obj_close_approaches c ON o.id = c.id\n",
    "\"\"\")\n",
    "joined_pd = joined_df.toPandas()\n",
    "joined_pd['avg_diameter_m'] = (joined_pd['estimated_diameter_min_m'] + joined_pd['estimated_diameter_max_m']) / 2\n",
    "joined_pd['approach_day'] = joined_pd['close_approach_date'].str[8:10].astype(int)\n",
    "\n",
    "display(joined_pd)\n",
    "\n",
    "plt.figure(figsize=(8,6))\n",
    "sns.scatterplot(\n",
    "    data=joined_pd, \n",
    "    x='avg_diameter_m', \n",
    "    y='miss_distance_km',\n",
    ")\n",
    "plt.title('Size vs. Approach Distance')\n",
    "plt.xlabel('Estimated Diameter (meters)')\n",
    "plt.ylabel('Miss Distance (km)')\n",
    "plt.show()\n",
    "\n",
    "plt.figure(figsize=(10,6))\n",
    "sns.histplot(joined_pd['approach_day'], discrete=True) \n",
    "plt.title('Number of Close Approaches per day')\n",
    "plt.xlabel('Day')\n",
    "plt.ylabel('Number of Approaches')\n",
    "plt.xticks(range(1,32))\n",
    "plt.grid(axis='y')\n",
    "plt.show()\n",
    "\n",
    "\n"
   ]
  },
  {
   "cell_type": "code",
   "execution_count": 0,
   "metadata": {
    "application/vnd.databricks.v1+cell": {
     "cellMetadata": {
      "byteLimit": 2048000,
      "rowLimit": 10000
     },
     "inputWidgets": {},
     "nuid": "695bc1e8-069b-41ee-a408-c9aaa39b9eb9",
     "showTitle": false,
     "tableResultSettingsMap": {},
     "title": ""
    }
   },
   "outputs": [],
   "source": [
    "def neo_info (obj_id : str):\n",
    "    details = spark.sql(f\"\"\"\n",
    "    SELECT * FROM objects o JOIN obj_close_approaches c ON o.id = c.id\n",
    "    where o.id = '{obj_id}'\n",
    "    ORDER BY c.close_approach_date\n",
    "    \"\"\")\n",
    "    return details.toPandas()\n",
    "\n",
    "neo_info(\"3426410\")"
   ]
  },
  {
   "cell_type": "markdown",
   "metadata": {
    "application/vnd.databricks.v1+cell": {
     "cellMetadata": {
      "byteLimit": 2048000,
      "rowLimit": 10000
     },
     "inputWidgets": {},
     "nuid": "58aa8ce5-4af9-4ab8-8207-7c6bf20c5efc",
     "showTitle": false,
     "tableResultSettingsMap": {},
     "title": ""
    }
   },
   "source": [
    "# USER STORY 2"
   ]
  },
  {
   "cell_type": "markdown",
   "metadata": {
    "application/vnd.databricks.v1+cell": {
     "cellMetadata": {
      "byteLimit": 2048000,
      "rowLimit": 10000
     },
     "inputWidgets": {},
     "nuid": "c0394f1b-df30-4be9-b99c-77e9caf29836",
     "showTitle": false,
     "tableResultSettingsMap": {},
     "title": ""
    }
   },
   "source": [
    "%md\n",
    "The ask -\n",
    "Analysis of NEO close approaches frequency\n",
    "\n",
    "Requirements         \n",
    "- Statistical analysis of NEO close approaches in a time period\n",
    "- Filter by object size ranges and show frequency distribution\n",
    "- Categorize objects by minimum distance during close approach\n",
    "- Identify and analyze \"potentially hazardous\" objects separately\n",
    "- Visualize trends and comparative analysis (hazardous vs non-hazardous)"
   ]
  },
  {
   "cell_type": "markdown",
   "metadata": {
    "application/vnd.databricks.v1+cell": {
     "cellMetadata": {
      "byteLimit": 2048000,
      "rowLimit": 10000
     },
     "inputWidgets": {},
     "nuid": "05922f10-3a05-4579-a5e7-f600b7170b5d",
     "showTitle": false,
     "tableResultSettingsMap": {},
     "title": ""
    }
   },
   "source": [
    "## Part 1 to 5\n",
    "The system should provide statistical analysis of near-Earth\n",
    "object (NEO) close approaches over a defined time period.\n",
    "\n",
    "When filtering by object size ranges, the system should\n",
    "show frequency distribution accordingly.\n",
    "\n",
    "The system should categorize objects by their minimum\n",
    "distance from Earth during close approaches.\n",
    "\n",
    "The system should clearly identify which objects are\n",
    "classified as \"potentially hazardous\" and analyse their\n",
    "frequency separately.\n",
    "\n",
    "The system should provide comparative analysis between\n",
    "potentially hazardous and non-hazardous objects.\n"
   ]
  },
  {
   "cell_type": "code",
   "execution_count": 0,
   "metadata": {
    "application/vnd.databricks.v1+cell": {
     "cellMetadata": {
      "byteLimit": 2048000,
      "rowLimit": 10000
     },
     "inputWidgets": {},
     "nuid": "8e21cce7-eab6-48fe-8719-413068142ef0",
     "showTitle": false,
     "tableResultSettingsMap": {},
     "title": ""
    }
   },
   "outputs": [
    {
     "output_type": "display_data",
     "data": {
      "text/plain": [
       "Databricks visualization. Run in Databricks to view."
      ]
     },
     "metadata": {
      "application/vnd.databricks.v1.subcommand+json": {
       "baseErrorDetails": null,
       "bindings": {},
       "collapsed": false,
       "command": "%python\n__backend_agg_display_orig = display\n__backend_agg_dfs = []\ndef __backend_agg_display_new(df):\n    __backend_agg_df_modules = [\"pandas.core.frame\", \"databricks.koalas.frame\", \"pyspark.sql.dataframe\", \"pyspark.pandas.frame\", \"pyspark.sql.connect.dataframe\"]\n    if (type(df).__module__ in __backend_agg_df_modules and type(df).__name__ == 'DataFrame') or isinstance(df, list):\n        __backend_agg_dfs.append(df)\n\ndisplay = __backend_agg_display_new\n\ndef __backend_agg_user_code_fn():\n    import base64\n    exec(base64.standard_b64decode(\"IiIiCiBGaXJzdCB3ZSBqb2luIHRoZSB0d28gdGFibGVzIHVzaW5nIFNRTCBhbmQgdGhlbiBjb252ZXJ0IHRoZSBkZiB0byBwYW5kYXMuIFNpbmNlIGl0IGlzIGFscmVhZHkgZG9uZSB3ZSBkaXJlY3RseSB1c2UgdGhlIERGCiIiIgpwcmludCgiVG90YWwgQ2xvc2UgQXBwcm9hY2hlczoiLCBsZW4oam9pbmVkX3BkKSkKcHJpbnQoIlVuaXF1ZSBORU9zOiIsIGpvaW5lZF9wZFsnaWQnXS5udW5pcXVlKCkpCnByaW50KCJIYXphcmRvdXMgTkVPczoiLCBqb2luZWRfcGRbJ2lzX3BvdGVudGlhbGx5X2hhemFyZG91c19hc3Rlcm9pZCddLnN1bSgpKQpwcmludCgiTm9uLUhhemFyZG91cyBORU9zOiIsKGpvaW5lZF9wZFsnaXNfcG90ZW50aWFsbHlfaGF6YXJkb3VzX2FzdGVyb2lkJ10gPT0gRmFsc2UpLnN1bSgpKQpwcmludCgiQXZlcmFnZSBEaWFtZXRlciAobWV0ZXJzKToiLCBqb2luZWRfcGRbJ2F2Z19kaWFtZXRlcl9tJ10ubWVhbigpKQpwcmludCgiQXZlcmFnZSBzcGVlZCAoa21waCk6Iiwgam9pbmVkX3BkWydrbXBoJ10ubWVhbigpKQpwcmludCgiQXZlcmFnZSBtYWduaXR1dGUgKGgpOiIsIGpvaW5lZF9wZFsnYWJzb2x1dGVfbWFnbml0dWRlX2gnXS5tZWFuKCkpCnByaW50KCJEYXRlIFJhbmdlOiIsIGpvaW5lZF9wZFsnY2xvc2VfYXBwcm9hY2hfZGF0ZSddLm1pbigpLCAidG8iLCBqb2luZWRfcGRbJ2Nsb3NlX2FwcHJvYWNoX2RhdGUnXS5tYXgoKSkKCmRpc3BsYXkoam9pbmVkX3BkKQo=\").decode())\n\ntry:\n    # run user code\n    __backend_agg_user_code_fn()\n\n    #reset display function\n    display = __backend_agg_display_orig\n\n    if len(__backend_agg_dfs) > 0:\n        # create a temp view\n        if type(__backend_agg_dfs[0]).__module__ == \"databricks.koalas.frame\":\n            # koalas dataframe\n            __backend_agg_dfs[0].to_spark().createOrReplaceTempView(\"DatabricksView0efb399\")\n        elif type(__backend_agg_dfs[0]).__module__ == \"pandas.core.frame\" or isinstance(__backend_agg_dfs[0], list):\n            # pandas dataframe\n            spark.createDataFrame(__backend_agg_dfs[0]).createOrReplaceTempView(\"DatabricksView0efb399\")\n        else:\n            __backend_agg_dfs[0].createOrReplaceTempView(\"DatabricksView0efb399\")\n        #run backend agg\n        display(spark.sql(\"\"\"WITH q AS (select * from DatabricksView0efb399) ,min_max AS (SELECT `avg_diameter_m`,(SELECT MAX(`avg_diameter_m`) FROM q) `target_column_max`,(SELECT MIN(`avg_diameter_m`) FROM q) `target_column_min` FROM q) ,histogram_meta AS (SELECT `avg_diameter_m`,`target_column_min` `min_value`,IF(`target_column_max` = `target_column_min`,`target_column_max` + 1,`target_column_max`) `max_value`,(`target_column_max` - `target_column_min`) / 20 `step` FROM min_max) SELECT IF(ISNULL(`avg_diameter_m`),NULL,LEAST(WIDTH_BUCKET(`avg_diameter_m`,`min_value`,`max_value`,20),20)) `avg_diameter_m_BIN`,FIRST(`min_value` + ((IF(ISNULL(`avg_diameter_m`),NULL,LEAST(WIDTH_BUCKET(`avg_diameter_m`,`min_value`,`max_value`,20),20)) - 1) * `step`)) `avg_diameter_m_BIN_LOWER_BOUND`,FIRST(`step`) `avg_diameter_m_BIN_STEP`,COUNT(`avg_diameter_m`) `COUNT` FROM histogram_meta GROUP BY `avg_diameter_m_BIN`\"\"\"))\n    else:\n        displayHTML(\"dataframe no longer exists. If you're using dataframe.display(), use display(dataframe) instead.\")\n\n\nfinally:\n    spark.sql(\"drop view if exists DatabricksView0efb399\")\n    display = __backend_agg_display_orig\n    del __backend_agg_display_new\n    del __backend_agg_display_orig\n    del __backend_agg_dfs\n    del __backend_agg_user_code_fn\n\n",
       "commandTitle": "object size",
       "commandType": "auto",
       "commandVersion": 0,
       "commentThread": [],
       "commentsVisible": false,
       "contentSha256Hex": null,
       "customPlotOptions": {
        "redashChart": [
         {
          "key": "type",
          "value": "CHART"
         },
         {
          "key": "options",
          "value": {
           "alignYAxesAtZero": true,
           "coefficient": 1,
           "columnConfigurationMap": {
            "x": {
             "column": "avg_diameter_m",
             "id": "column_543f0bdf236"
            }
           },
           "dateTimeFormat": "DD/MM/YYYY HH:mm",
           "direction": {
            "type": "counterclockwise"
           },
           "error_y": {
            "type": "data",
            "visible": true
           },
           "globalSeriesType": "histogram",
           "isAggregationOn": true,
           "legend": {
            "traceorder": "normal"
           },
           "missingValuesAsZero": true,
           "numBins": 20,
           "numberFormat": "0,0.[00000]",
           "percentFormat": "0[.]00%",
           "series": {
            "error_y": {
             "type": "data",
             "visible": true
            },
            "stacking": null
           },
           "seriesOptions": {
            "COUNT": {
             "color": "#FCA4A1"
            }
           },
           "showDataLabels": false,
           "sizemode": "diameter",
           "sortX": true,
           "sortY": true,
           "swappedAxes": false,
           "textFormat": "",
           "useAggregationsUi": true,
           "valuesOptions": {},
           "version": 2,
           "xAxis": {
            "labels": {
             "enabled": true
            },
            "title": {
             "text": "Average Diameter (m)"
            },
            "type": "-"
           },
           "yAxis": [
            {
             "type": "-"
            },
            {
             "opposite": true,
             "type": "-"
            }
           ]
          }
         }
        ]
       },
       "datasetPreviewNameToCmdIdMap": {},
       "diffDeletes": [],
       "diffInserts": [],
       "displayType": "redashChart",
       "error": null,
       "errorDetails": null,
       "errorSummary": null,
       "errorTraceType": null,
       "finishTime": 0,
       "globalVars": {},
       "guid": "",
       "height": "auto",
       "hideCommandCode": false,
       "hideCommandResult": false,
       "iPythonMetadata": null,
       "inputWidgets": {},
       "isLockedInExamMode": false,
       "latestUser": "a user",
       "latestUserId": null,
       "listResultMetadata": null,
       "metadata": {
        "byteLimit": 2048000,
        "rowLimit": 10000
       },
       "nuid": "a16c37be-21eb-43e9-a635-f0d4c6422026",
       "origId": 0,
       "parentHierarchy": [],
       "pivotAggregation": null,
       "pivotColumns": null,
       "position": 7.8125,
       "resultDbfsErrorMessage": null,
       "resultDbfsStatus": "INLINED_IN_TREE",
       "results": null,
       "showCommandTitle": false,
       "startTime": 0,
       "state": "input",
       "streamStates": {},
       "subcommandOptions": {
        "queryPlan": {
         "groups": [
          {
           "column": "avg_diameter_m_BIN",
           "type": "column"
          }
         ],
         "selects": [
          {
           "alias": "avg_diameter_m_BIN",
           "args": [
            {
             "column": "avg_diameter_m",
             "type": "column"
            },
            {
             "number": 20,
             "type": "number"
            }
           ],
           "function": "BIN",
           "type": "function"
          },
          {
           "alias": "avg_diameter_m_BIN_LOWER_BOUND",
           "args": [
            {
             "column": "avg_diameter_m",
             "type": "column"
            },
            {
             "number": 20,
             "type": "number"
            }
           ],
           "function": "BIN_LOWER_BOUND",
           "type": "function"
          },
          {
           "alias": "avg_diameter_m_BIN_STEP",
           "args": [
            {
             "column": "avg_diameter_m",
             "type": "column"
            },
            {
             "number": 20,
             "type": "number"
            }
           ],
           "function": "BIN_STEP",
           "type": "function"
          },
          {
           "alias": "COUNT",
           "args": [
            {
             "column": "avg_diameter_m",
             "type": "column"
            }
           ],
           "function": "COUNT",
           "type": "function"
          }
         ]
        }
       },
       "submitTime": 0,
       "subtype": "tableResultSubCmd.visualization",
       "tableResultIndex": 0,
       "tableResultSettingsMap": {},
       "useConsistentColors": false,
       "version": "CommandV1",
       "width": "auto",
       "workflows": null,
       "xColumns": null,
       "yColumns": null
      }
     },
     "output_type": "display_data"
    },
    {
     "output_type": "display_data",
     "data": {
      "text/plain": [
       "Databricks visualization. Run in Databricks to view."
      ]
     },
     "metadata": {
      "application/vnd.databricks.v1.subcommand+json": {
       "baseErrorDetails": null,
       "bindings": {},
       "collapsed": false,
       "command": "%python\n__backend_agg_display_orig = display\n__backend_agg_dfs = []\ndef __backend_agg_display_new(df):\n    __backend_agg_df_modules = [\"pandas.core.frame\", \"databricks.koalas.frame\", \"pyspark.sql.dataframe\", \"pyspark.pandas.frame\", \"pyspark.sql.connect.dataframe\"]\n    if (type(df).__module__ in __backend_agg_df_modules and type(df).__name__ == 'DataFrame') or isinstance(df, list):\n        __backend_agg_dfs.append(df)\n\ndisplay = __backend_agg_display_new\n\ndef __backend_agg_user_code_fn():\n    import base64\n    exec(base64.standard_b64decode(\"IiIiCiBGaXJzdCB3ZSBqb2luIHRoZSB0d28gdGFibGVzIHVzaW5nIFNRTCBhbmQgdGhlbiBjb252ZXJ0IHRoZSBkZiB0byBwYW5kYXMuIFNpbmNlIGl0IGlzIGFscmVhZHkgZG9uZSB3ZSBkaXJlY3RseSB1c2UgdGhlIERGCiIiIgpwcmludCgiVG90YWwgQ2xvc2UgQXBwcm9hY2hlczoiLCBsZW4oam9pbmVkX3BkKSkKcHJpbnQoIlVuaXF1ZSBORU9zOiIsIGpvaW5lZF9wZFsnaWQnXS5udW5pcXVlKCkpCnByaW50KCJIYXphcmRvdXMgTkVPczoiLCBqb2luZWRfcGRbJ2lzX3BvdGVudGlhbGx5X2hhemFyZG91c19hc3Rlcm9pZCddLnN1bSgpKQpwcmludCgiTm9uLUhhemFyZG91cyBORU9zOiIsKGpvaW5lZF9wZFsnaXNfcG90ZW50aWFsbHlfaGF6YXJkb3VzX2FzdGVyb2lkJ10gPT0gRmFsc2UpLnN1bSgpKQpwcmludCgiQXZlcmFnZSBEaWFtZXRlciAobWV0ZXJzKToiLCBqb2luZWRfcGRbJ2F2Z19kaWFtZXRlcl9tJ10ubWVhbigpKQpwcmludCgiQXZlcmFnZSBzcGVlZCAoa21waCk6Iiwgam9pbmVkX3BkWydrbXBoJ10ubWVhbigpKQpwcmludCgiQXZlcmFnZSBtYWduaXR1dGUgKGgpOiIsIGpvaW5lZF9wZFsnYWJzb2x1dGVfbWFnbml0dWRlX2gnXS5tZWFuKCkpCnByaW50KCJEYXRlIFJhbmdlOiIsIGpvaW5lZF9wZFsnY2xvc2VfYXBwcm9hY2hfZGF0ZSddLm1pbigpLCAidG8iLCBqb2luZWRfcGRbJ2Nsb3NlX2FwcHJvYWNoX2RhdGUnXS5tYXgoKSkKCmRpc3BsYXkoam9pbmVkX3BkKQo=\").decode())\n\ntry:\n    # run user code\n    __backend_agg_user_code_fn()\n\n    #reset display function\n    display = __backend_agg_display_orig\n\n    if len(__backend_agg_dfs) > 0:\n        # create a temp view\n        if type(__backend_agg_dfs[0]).__module__ == \"databricks.koalas.frame\":\n            # koalas dataframe\n            __backend_agg_dfs[0].to_spark().createOrReplaceTempView(\"DatabricksView39613ca\")\n        elif type(__backend_agg_dfs[0]).__module__ == \"pandas.core.frame\" or isinstance(__backend_agg_dfs[0], list):\n            # pandas dataframe\n            spark.createDataFrame(__backend_agg_dfs[0]).createOrReplaceTempView(\"DatabricksView39613ca\")\n        else:\n            __backend_agg_dfs[0].createOrReplaceTempView(\"DatabricksView39613ca\")\n        #run backend agg\n        display(spark.sql(\"\"\"WITH q AS (select * from DatabricksView39613ca) ,min_max AS (SELECT `miss_distance_km`,(SELECT MAX(`miss_distance_km`) FROM q) `target_column_max`,(SELECT MIN(`miss_distance_km`) FROM q) `target_column_min` FROM q) ,histogram_meta AS (SELECT `miss_distance_km`,`target_column_min` `min_value`,IF(`target_column_max` = `target_column_min`,`target_column_max` + 1,`target_column_max`) `max_value`,(`target_column_max` - `target_column_min`) / 15 `step` FROM min_max) SELECT IF(ISNULL(`miss_distance_km`),NULL,LEAST(WIDTH_BUCKET(`miss_distance_km`,`min_value`,`max_value`,15),15)) `miss_distance_km_BIN`,FIRST(`min_value` + ((IF(ISNULL(`miss_distance_km`),NULL,LEAST(WIDTH_BUCKET(`miss_distance_km`,`min_value`,`max_value`,15),15)) - 1) * `step`)) `miss_distance_km_BIN_LOWER_BOUND`,FIRST(`step`) `miss_distance_km_BIN_STEP`,COUNT(`miss_distance_km`) `COUNT` FROM histogram_meta GROUP BY `miss_distance_km_BIN`\"\"\"))\n    else:\n        displayHTML(\"dataframe no longer exists. If you're using dataframe.display(), use display(dataframe) instead.\")\n\n\nfinally:\n    spark.sql(\"drop view if exists DatabricksView39613ca\")\n    display = __backend_agg_display_orig\n    del __backend_agg_display_new\n    del __backend_agg_display_orig\n    del __backend_agg_dfs\n    del __backend_agg_user_code_fn\n\n",
       "commandTitle": "Miss Distance",
       "commandType": "auto",
       "commandVersion": 0,
       "commentThread": [],
       "commentsVisible": false,
       "contentSha256Hex": null,
       "customPlotOptions": {
        "redashChart": [
         {
          "key": "type",
          "value": "CHART"
         },
         {
          "key": "options",
          "value": {
           "alignYAxesAtZero": true,
           "coefficient": 1,
           "columnConfigurationMap": {
            "x": {
             "column": "miss_distance_km",
             "id": "column_543f0bdf241"
            }
           },
           "dateTimeFormat": "DD/MM/YYYY HH:mm",
           "direction": {
            "type": "counterclockwise"
           },
           "error_y": {
            "type": "data",
            "visible": true
           },
           "globalSeriesType": "histogram",
           "isAggregationOn": true,
           "legend": {
            "traceorder": "normal"
           },
           "missingValuesAsZero": true,
           "numBins": 15,
           "numberFormat": "0,0.[00000]",
           "percentFormat": "0[.]00%",
           "series": {
            "error_y": {
             "type": "data",
             "visible": true
            },
            "stacking": null
           },
           "seriesOptions": {
            "COUNT": {
             "color": "#99DDB4"
            }
           },
           "showDataLabels": false,
           "sizemode": "diameter",
           "sortX": true,
           "sortY": true,
           "swappedAxes": false,
           "textFormat": "",
           "useAggregationsUi": true,
           "valuesOptions": {},
           "version": 2,
           "xAxis": {
            "labels": {
             "enabled": true
            },
            "title": {
             "text": "Miss Distance from Earth (M km)"
            },
            "type": "-"
           },
           "yAxis": [
            {
             "type": "-"
            },
            {
             "opposite": true,
             "type": "-"
            }
           ]
          }
         }
        ]
       },
       "datasetPreviewNameToCmdIdMap": {},
       "diffDeletes": [],
       "diffInserts": [],
       "displayType": "redashChart",
       "error": null,
       "errorDetails": null,
       "errorSummary": null,
       "errorTraceType": null,
       "finishTime": 0,
       "globalVars": {},
       "guid": "",
       "height": "auto",
       "hideCommandCode": false,
       "hideCommandResult": false,
       "iPythonMetadata": null,
       "inputWidgets": {},
       "isLockedInExamMode": false,
       "latestUser": "a user",
       "latestUserId": null,
       "listResultMetadata": null,
       "metadata": {
        "byteLimit": 2048000,
        "rowLimit": 10000
       },
       "nuid": "f4e8ee09-e910-4def-80d3-e8c3f7900f3b",
       "origId": 0,
       "parentHierarchy": [],
       "pivotAggregation": null,
       "pivotColumns": null,
       "position": 15.625,
       "resultDbfsErrorMessage": null,
       "resultDbfsStatus": "INLINED_IN_TREE",
       "results": null,
       "showCommandTitle": false,
       "startTime": 0,
       "state": "input",
       "streamStates": {},
       "subcommandOptions": {
        "queryPlan": {
         "groups": [
          {
           "column": "miss_distance_km_BIN",
           "type": "column"
          }
         ],
         "selects": [
          {
           "alias": "miss_distance_km_BIN",
           "args": [
            {
             "column": "miss_distance_km",
             "type": "column"
            },
            {
             "number": 15,
             "type": "number"
            }
           ],
           "function": "BIN",
           "type": "function"
          },
          {
           "alias": "miss_distance_km_BIN_LOWER_BOUND",
           "args": [
            {
             "column": "miss_distance_km",
             "type": "column"
            },
            {
             "number": 15,
             "type": "number"
            }
           ],
           "function": "BIN_LOWER_BOUND",
           "type": "function"
          },
          {
           "alias": "miss_distance_km_BIN_STEP",
           "args": [
            {
             "column": "miss_distance_km",
             "type": "column"
            },
            {
             "number": 15,
             "type": "number"
            }
           ],
           "function": "BIN_STEP",
           "type": "function"
          },
          {
           "alias": "COUNT",
           "args": [
            {
             "column": "miss_distance_km",
             "type": "column"
            }
           ],
           "function": "COUNT",
           "type": "function"
          }
         ]
        }
       },
       "submitTime": 0,
       "subtype": "tableResultSubCmd.visualization",
       "tableResultIndex": 0,
       "tableResultSettingsMap": {},
       "useConsistentColors": false,
       "version": "CommandV1",
       "width": "auto",
       "workflows": null,
       "xColumns": null,
       "yColumns": null
      }
     },
     "output_type": "display_data"
    },
    {
     "output_type": "display_data",
     "data": {
      "text/plain": [
       "Databricks visualization. Run in Databricks to view."
      ]
     },
     "metadata": {
      "application/vnd.databricks.v1.subcommand+json": {
       "baseErrorDetails": null,
       "bindings": {},
       "collapsed": false,
       "command": "%python\n__backend_agg_display_orig = display\n__backend_agg_dfs = []\ndef __backend_agg_display_new(df):\n    __backend_agg_df_modules = [\"pandas.core.frame\", \"databricks.koalas.frame\", \"pyspark.sql.dataframe\", \"pyspark.pandas.frame\", \"pyspark.sql.connect.dataframe\"]\n    if (type(df).__module__ in __backend_agg_df_modules and type(df).__name__ == 'DataFrame') or isinstance(df, list):\n        __backend_agg_dfs.append(df)\n\ndisplay = __backend_agg_display_new\n\ndef __backend_agg_user_code_fn():\n    import base64\n    exec(base64.standard_b64decode(\"IiIiCiBGaXJzdCB3ZSBqb2luIHRoZSB0d28gdGFibGVzIHVzaW5nIFNRTCBhbmQgdGhlbiBjb252ZXJ0IHRoZSBkZiB0byBwYW5kYXMuIFNpbmNlIGl0IGlzIGFscmVhZHkgZG9uZSB3ZSBkaXJlY3RseSB1c2UgdGhlIERGCiIiIgpwcmludCgiVG90YWwgQ2xvc2UgQXBwcm9hY2hlczoiLCBsZW4oam9pbmVkX3BkKSkKcHJpbnQoIlVuaXF1ZSBORU9zOiIsIGpvaW5lZF9wZFsnaWQnXS5udW5pcXVlKCkpCnByaW50KCJIYXphcmRvdXMgTkVPczoiLCBqb2luZWRfcGRbJ2lzX3BvdGVudGlhbGx5X2hhemFyZG91c19hc3Rlcm9pZCddLnN1bSgpKQpwcmludCgiTm9uLUhhemFyZG91cyBORU9zOiIsKGpvaW5lZF9wZFsnaXNfcG90ZW50aWFsbHlfaGF6YXJkb3VzX2FzdGVyb2lkJ10gPT0gRmFsc2UpLnN1bSgpKQpwcmludCgiQXZlcmFnZSBEaWFtZXRlciAobWV0ZXJzKToiLCBqb2luZWRfcGRbJ2F2Z19kaWFtZXRlcl9tJ10ubWVhbigpKQpwcmludCgiQXZlcmFnZSBzcGVlZCAoa21waCk6Iiwgam9pbmVkX3BkWydrbXBoJ10ubWVhbigpKQpwcmludCgiQXZlcmFnZSBtYWduaXR1dGUgKGgpOiIsIGpvaW5lZF9wZFsnYWJzb2x1dGVfbWFnbml0dWRlX2gnXS5tZWFuKCkpCnByaW50KCJEYXRlIFJhbmdlOiIsIGpvaW5lZF9wZFsnY2xvc2VfYXBwcm9hY2hfZGF0ZSddLm1pbigpLCAidG8iLCBqb2luZWRfcGRbJ2Nsb3NlX2FwcHJvYWNoX2RhdGUnXS5tYXgoKSkKCmRpc3BsYXkoam9pbmVkX3BkKQo=\").decode())\n\ntry:\n    # run user code\n    __backend_agg_user_code_fn()\n\n    #reset display function\n    display = __backend_agg_display_orig\n\n    if len(__backend_agg_dfs) > 0:\n        # create a temp view\n        if type(__backend_agg_dfs[0]).__module__ == \"databricks.koalas.frame\":\n            # koalas dataframe\n            __backend_agg_dfs[0].to_spark().createOrReplaceTempView(\"DatabricksView74866fa\")\n        elif type(__backend_agg_dfs[0]).__module__ == \"pandas.core.frame\" or isinstance(__backend_agg_dfs[0], list):\n            # pandas dataframe\n            spark.createDataFrame(__backend_agg_dfs[0]).createOrReplaceTempView(\"DatabricksView74866fa\")\n        else:\n            __backend_agg_dfs[0].createOrReplaceTempView(\"DatabricksView74866fa\")\n        #run backend agg\n        display(spark.sql(\"\"\"WITH q AS (select * from DatabricksView74866fa) SELECT `is_potentially_hazardous_asteroid`,COUNT(`is_potentially_hazardous_asteroid`) `column_543f0bdf294` FROM q GROUP BY `is_potentially_hazardous_asteroid`\"\"\"))\n    else:\n        displayHTML(\"dataframe no longer exists. If you're using dataframe.display(), use display(dataframe) instead.\")\n\n\nfinally:\n    spark.sql(\"drop view if exists DatabricksView74866fa\")\n    display = __backend_agg_display_orig\n    del __backend_agg_display_new\n    del __backend_agg_display_orig\n    del __backend_agg_dfs\n    del __backend_agg_user_code_fn\n\n",
       "commandTitle": "Frequency of Potentially Hazardous vs Non-Hazardous",
       "commandType": "auto",
       "commandVersion": 0,
       "commentThread": [],
       "commentsVisible": false,
       "contentSha256Hex": null,
       "customPlotOptions": {
        "redashChart": [
         {
          "key": "type",
          "value": "CHART"
         },
         {
          "key": "options",
          "value": {
           "alignYAxesAtZero": true,
           "coefficient": 1,
           "columnConfigurationMap": {
            "x": {
             "column": "is_potentially_hazardous_asteroid",
             "id": "column_543f0bdf292"
            },
            "y": [
             {
              "column": "is_potentially_hazardous_asteroid",
              "id": "column_543f0bdf294",
              "transform": "COUNT"
             }
            ]
           },
           "dateTimeFormat": "DD/MM/YYYY HH:mm",
           "direction": {
            "type": "counterclockwise"
           },
           "error_y": {
            "type": "data",
            "visible": true
           },
           "globalSeriesType": "column",
           "isAggregationOn": true,
           "legend": {
            "traceorder": "normal"
           },
           "missingValuesAsZero": true,
           "numberFormat": "0,0.[00000]",
           "percentFormat": "0[.]00%",
           "series": {
            "error_y": {
             "type": "data",
             "visible": true
            },
            "stacking": null
           },
           "seriesOptions": {
            "column_543f0bdf290": {
             "type": "column",
             "yAxis": 0
            },
            "column_543f0bdf294": {
             "color": "#00A972",
             "type": "column",
             "yAxis": 0
            }
           },
           "showDataLabels": false,
           "sizemode": "diameter",
           "sortX": true,
           "sortY": true,
           "swappedAxes": false,
           "textFormat": "",
           "useAggregationsUi": true,
           "valuesOptions": {},
           "version": 2,
           "xAxis": {
            "labels": {
             "enabled": true
            },
            "title": {
             "text": "Is Potentially Hazardous"
            },
            "type": "-"
           },
           "yAxis": [
            {
             "title": {
              "text": "Count"
             },
             "type": "-"
            },
            {
             "opposite": true,
             "type": "-"
            }
           ]
          }
         }
        ]
       },
       "datasetPreviewNameToCmdIdMap": {},
       "diffDeletes": [],
       "diffInserts": [],
       "displayType": "redashChart",
       "error": null,
       "errorDetails": null,
       "errorSummary": null,
       "errorTraceType": null,
       "finishTime": 0,
       "globalVars": {},
       "guid": "",
       "height": "auto",
       "hideCommandCode": false,
       "hideCommandResult": false,
       "iPythonMetadata": null,
       "inputWidgets": {},
       "isLockedInExamMode": false,
       "latestUser": "a user",
       "latestUserId": null,
       "listResultMetadata": null,
       "metadata": {
        "byteLimit": 2048000,
        "rowLimit": 10000
       },
       "nuid": "cd6054d7-7976-464c-93ae-47eccf13767f",
       "origId": 0,
       "parentHierarchy": [],
       "pivotAggregation": null,
       "pivotColumns": null,
       "position": 16.125,
       "resultDbfsErrorMessage": null,
       "resultDbfsStatus": "INLINED_IN_TREE",
       "results": null,
       "showCommandTitle": false,
       "startTime": 0,
       "state": "input",
       "streamStates": {},
       "subcommandOptions": {
        "queryPlan": {
         "groups": [
          {
           "column": "is_potentially_hazardous_asteroid",
           "type": "column"
          }
         ],
         "selects": [
          {
           "column": "is_potentially_hazardous_asteroid",
           "type": "column"
          },
          {
           "alias": "column_543f0bdf294",
           "args": [
            {
             "column": "is_potentially_hazardous_asteroid",
             "type": "column"
            }
           ],
           "function": "COUNT",
           "type": "function"
          }
         ]
        }
       },
       "submitTime": 0,
       "subtype": "tableResultSubCmd.visualization",
       "tableResultIndex": 0,
       "tableResultSettingsMap": {},
       "useConsistentColors": false,
       "version": "CommandV1",
       "width": "auto",
       "workflows": null,
       "xColumns": null,
       "yColumns": null
      }
     },
     "output_type": "display_data"
    },
    {
     "output_type": "display_data",
     "data": {
      "text/plain": [
       "Databricks visualization. Run in Databricks to view."
      ]
     },
     "metadata": {
      "application/vnd.databricks.v1.subcommand+json": {
       "baseErrorDetails": null,
       "bindings": {},
       "collapsed": false,
       "command": "%python\n__backend_agg_display_orig = display\n__backend_agg_dfs = []\ndef __backend_agg_display_new(df):\n    __backend_agg_df_modules = [\"pandas.core.frame\", \"databricks.koalas.frame\", \"pyspark.sql.dataframe\", \"pyspark.pandas.frame\", \"pyspark.sql.connect.dataframe\"]\n    if (type(df).__module__ in __backend_agg_df_modules and type(df).__name__ == 'DataFrame') or isinstance(df, list):\n        __backend_agg_dfs.append(df)\n\ndisplay = __backend_agg_display_new\n\ndef __backend_agg_user_code_fn():\n    import base64\n    exec(base64.standard_b64decode(\"IiIiCiBGaXJzdCB3ZSBqb2luIHRoZSB0d28gdGFibGVzIHVzaW5nIFNRTCBhbmQgdGhlbiBjb252ZXJ0IHRoZSBkZiB0byBwYW5kYXMuIFNpbmNlIGl0IGlzIGFscmVhZHkgZG9uZSB3ZSBkaXJlY3RseSB1c2UgdGhlIERGCiIiIgpwcmludCgiVG90YWwgQ2xvc2UgQXBwcm9hY2hlczoiLCBsZW4oam9pbmVkX3BkKSkKcHJpbnQoIlVuaXF1ZSBORU9zOiIsIGpvaW5lZF9wZFsnaWQnXS5udW5pcXVlKCkpCnByaW50KCJIYXphcmRvdXMgTkVPczoiLCBqb2luZWRfcGRbJ2lzX3BvdGVudGlhbGx5X2hhemFyZG91c19hc3Rlcm9pZCddLnN1bSgpKQpwcmludCgiTm9uLUhhemFyZG91cyBORU9zOiIsKGpvaW5lZF9wZFsnaXNfcG90ZW50aWFsbHlfaGF6YXJkb3VzX2FzdGVyb2lkJ10gPT0gRmFsc2UpLnN1bSgpKQpwcmludCgiQXZlcmFnZSBEaWFtZXRlciAobWV0ZXJzKToiLCBqb2luZWRfcGRbJ2F2Z19kaWFtZXRlcl9tJ10ubWVhbigpKQpwcmludCgiQXZlcmFnZSBzcGVlZCAoa21waCk6Iiwgam9pbmVkX3BkWydrbXBoJ10ubWVhbigpKQpwcmludCgiQXZlcmFnZSBtYWduaXR1dGUgKGgpOiIsIGpvaW5lZF9wZFsnYWJzb2x1dGVfbWFnbml0dWRlX2gnXS5tZWFuKCkpCnByaW50KCJEYXRlIFJhbmdlOiIsIGpvaW5lZF9wZFsnY2xvc2VfYXBwcm9hY2hfZGF0ZSddLm1pbigpLCAidG8iLCBqb2luZWRfcGRbJ2Nsb3NlX2FwcHJvYWNoX2RhdGUnXS5tYXgoKSkKCmRpc3BsYXkoam9pbmVkX3BkKQo=\").decode())\n\ntry:\n    # run user code\n    __backend_agg_user_code_fn()\n\n    #reset display function\n    display = __backend_agg_display_orig\n\n    if len(__backend_agg_dfs) > 0:\n        # create a temp view\n        if type(__backend_agg_dfs[0]).__module__ == \"databricks.koalas.frame\":\n            # koalas dataframe\n            __backend_agg_dfs[0].to_spark().createOrReplaceTempView(\"DatabricksView62a2796\")\n        elif type(__backend_agg_dfs[0]).__module__ == \"pandas.core.frame\" or isinstance(__backend_agg_dfs[0], list):\n            # pandas dataframe\n            spark.createDataFrame(__backend_agg_dfs[0]).createOrReplaceTempView(\"DatabricksView62a2796\")\n        else:\n            __backend_agg_dfs[0].createOrReplaceTempView(\"DatabricksView62a2796\")\n        #run backend agg\n        display(spark.sql(\"\"\"WITH q AS (select * from DatabricksView62a2796) SELECT `is_potentially_hazardous_asteroid`,`avg_diameter_m` FROM q\"\"\"))\n    else:\n        displayHTML(\"dataframe no longer exists. If you're using dataframe.display(), use display(dataframe) instead.\")\n\n\nfinally:\n    spark.sql(\"drop view if exists DatabricksView62a2796\")\n    display = __backend_agg_display_orig\n    del __backend_agg_display_new\n    del __backend_agg_display_orig\n    del __backend_agg_dfs\n    del __backend_agg_user_code_fn\n\n",
       "commandTitle": "Size vs Hazardous Status",
       "commandType": "auto",
       "commandVersion": 0,
       "commentThread": [],
       "commentsVisible": false,
       "contentSha256Hex": null,
       "customPlotOptions": {
        "redashChart": [
         {
          "key": "type",
          "value": "CHART"
         },
         {
          "key": "options",
          "value": {
           "alignYAxesAtZero": true,
           "coefficient": 1,
           "columnConfigurationMap": {
            "x": {
             "column": "is_potentially_hazardous_asteroid",
             "id": "column_543f0bdf285"
            },
            "y": [
             {
              "column": "avg_diameter_m",
              "id": "column_543f0bdf288"
             }
            ]
           },
           "dateTimeFormat": "DD/MM/YYYY HH:mm",
           "direction": {
            "type": "counterclockwise"
           },
           "error_y": {
            "type": "data",
            "visible": true
           },
           "globalSeriesType": "box",
           "legend": {
            "traceorder": "normal"
           },
           "missingValuesAsZero": true,
           "numBins": 10,
           "numberFormat": "0,0.[00000]",
           "percentFormat": "0[.]00%",
           "series": {
            "error_y": {
             "type": "data",
             "visible": true
            },
            "stacking": null
           },
           "seriesOptions": {
            "avg_diameter_m": {
             "color": "#BF7080",
             "type": "box",
             "yAxis": 0
            },
            "is_potentially_hazardous_asteroid": {
             "type": "box",
             "yAxis": 0
            }
           },
           "showDataLabels": false,
           "sizemode": "diameter",
           "sortX": true,
           "sortY": true,
           "swappedAxes": false,
           "textFormat": "",
           "useAggregationsUi": true,
           "valuesOptions": {},
           "version": 2,
           "xAxis": {
            "labels": {
             "enabled": true
            },
            "title": {
             "text": "Is Potentially Hazardous"
            },
            "type": "-"
           },
           "yAxis": [
            {
             "title": {
              "text": "Estimated Avg Diameter (m)"
             },
             "type": "-"
            },
            {
             "opposite": true,
             "title": {
              "text": null
             },
             "type": "-"
            }
           ]
          }
         }
        ]
       },
       "datasetPreviewNameToCmdIdMap": {},
       "diffDeletes": [],
       "diffInserts": [],
       "displayType": "redashChart",
       "error": null,
       "errorDetails": null,
       "errorSummary": null,
       "errorTraceType": null,
       "finishTime": 0,
       "globalVars": {},
       "guid": "",
       "height": "auto",
       "hideCommandCode": false,
       "hideCommandResult": false,
       "iPythonMetadata": null,
       "inputWidgets": {},
       "isLockedInExamMode": false,
       "latestUser": "a user",
       "latestUserId": null,
       "listResultMetadata": null,
       "metadata": {
        "byteLimit": 2048000,
        "rowLimit": 10000
       },
       "nuid": "e744fc07-67b7-4a67-b493-c2db5f1d3102",
       "origId": 0,
       "parentHierarchy": [],
       "pivotAggregation": null,
       "pivotColumns": null,
       "position": 16.625,
       "resultDbfsErrorMessage": null,
       "resultDbfsStatus": "INLINED_IN_TREE",
       "results": null,
       "showCommandTitle": false,
       "startTime": 0,
       "state": "input",
       "streamStates": {},
       "subcommandOptions": {
        "queryPlan": {
         "selects": [
          {
           "column": "is_potentially_hazardous_asteroid",
           "type": "column"
          },
          {
           "column": "avg_diameter_m",
           "type": "column"
          }
         ]
        }
       },
       "submitTime": 0,
       "subtype": "tableResultSubCmd.visualization",
       "tableResultIndex": 0,
       "tableResultSettingsMap": {},
       "useConsistentColors": false,
       "version": "CommandV1",
       "width": "auto",
       "workflows": null,
       "xColumns": null,
       "yColumns": null
      }
     },
     "output_type": "display_data"
    }
   ],
   "source": [
    "\"\"\"\n",
    " First we join the two tables using SQL and then convert the df to pandas. Since it is already done we directly use the DF\n",
    "\"\"\"\n",
    "print(\"Total Close Approaches:\", len(joined_pd))\n",
    "print(\"Unique NEOs:\", joined_pd['id'].nunique())\n",
    "print(\"Hazardous NEOs:\", joined_pd['is_potentially_hazardous_asteroid'].sum())\n",
    "print(\"Non-Hazardous NEOs:\",(joined_pd['is_potentially_hazardous_asteroid'] == False).sum())\n",
    "print(\"Average Diameter (meters):\", joined_pd['avg_diameter_m'].mean())\n",
    "print(\"Average speed (kmph):\", joined_pd['kmph'].mean())\n",
    "print(\"Average magnitute (h):\", joined_pd['absolute_magnitude_h'].mean())\n",
    "print(\"Date Range:\", joined_pd['close_approach_date'].min(), \"to\", joined_pd['close_approach_date'].max())\n",
    "\n",
    "display(joined_pd)\n"
   ]
  }
 ],
 "metadata": {
  "application/vnd.databricks.v1+notebook": {
   "computePreferences": {
    "hardware": {
     "accelerator": null,
     "gpuPoolId": null,
     "memory": "HIGH"
    }
   },
   "dashboards": [
    {
     "elements": [
      {
       "dashboardResultIndex": 0,
       "elementNUID": "8c974565-e4c9-4ed4-adcf-679990baef2d",
       "elementType": "command",
       "guid": "3d8e96d4-4622-4908-89e3-278bd34ea10d",
       "options": null,
       "position": {
        "height": 13,
        "width": 24,
        "x": 0,
        "y": 0,
        "z": null
       },
       "resultIndex": null
      }
     ],
     "globalVars": {},
     "guid": "",
     "layoutOption": {
      "grid": true,
      "stack": true
     },
     "nuid": "48755853-b4fe-43e5-87bd-facbebeddee3",
     "origId": 5236854730474173,
     "title": "Test",
     "version": "DashboardViewV1",
     "width": 1024
    }
   ],
   "environmentMetadata": {
    "base_environment": "",
    "environment_version": "2"
   },
   "inputWidgetPreferences": null,
   "language": "python",
   "notebookMetadata": {
    "mostRecentlyExecutedCommandWithImplicitDF": {
     "commandId": 5236854730474160,
     "dataframes": [
      "_sqldf"
     ]
    },
    "pythonIndentUnit": 4
   },
   "notebookName": "NASA - KPMG",
   "widgets": {}
  },
  "language_info": {
   "name": "python"
  }
 },
 "nbformat": 4,
 "nbformat_minor": 0
}
